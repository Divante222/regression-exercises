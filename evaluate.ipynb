{
 "cells": [
  {
   "cell_type": "code",
   "execution_count": 1,
   "id": "36aca41d",
   "metadata": {},
   "outputs": [],
   "source": [
    "import pandas as pd\n",
    "import numpy as np\n",
    "import env\n",
    "import matplotlib.pyplot as plt\n",
    "import seaborn as sns \n",
    "import os\n",
    "from scipy import stats\n",
    "import wrangle\n",
    "from sklearn.linear_model import LinearRegression\n",
    "from math import sqrt\n",
    "from sklearn.metrics import mean_squared_error, r2_score, explained_variance_score\n",
    "from sklearn.preprocessing import RobustScaler"
   ]
  },
  {
   "cell_type": "code",
   "execution_count": 2,
   "id": "07eff358",
   "metadata": {},
   "outputs": [],
   "source": [
    "df = pd.read_csv('zillow_data.csv')"
   ]
  },
  {
   "cell_type": "code",
   "execution_count": 3,
   "id": "09d9d95b",
   "metadata": {},
   "outputs": [
    {
     "name": "stderr",
     "output_type": "stream",
     "text": [
      "/Users/divante/codeup-data-science/regression-exercises/wrangle.py:67: SettingWithCopyWarning: \n",
      "A value is trying to be set on a copy of a slice from a DataFrame.\n",
      "Try using .loc[row_indexer,col_indexer] = value instead\n",
      "\n",
      "See the caveats in the documentation: https://pandas.pydata.org/pandas-docs/stable/user_guide/indexing.html#returning-a-view-versus-a-copy\n",
      "  df.calculatedfinishedsquarefeet = df.calculatedfinishedsquarefeet.astype(int).copy()\n",
      "/Users/divante/codeup-data-science/regression-exercises/wrangle.py:68: SettingWithCopyWarning: \n",
      "A value is trying to be set on a copy of a slice from a DataFrame.\n",
      "Try using .loc[row_indexer,col_indexer] = value instead\n",
      "\n",
      "See the caveats in the documentation: https://pandas.pydata.org/pandas-docs/stable/user_guide/indexing.html#returning-a-view-versus-a-copy\n",
      "  df.fips = df.fips.astype(int).copy()\n",
      "/Users/divante/codeup-data-science/regression-exercises/wrangle.py:69: SettingWithCopyWarning: \n",
      "A value is trying to be set on a copy of a slice from a DataFrame.\n",
      "Try using .loc[row_indexer,col_indexer] = value instead\n",
      "\n",
      "See the caveats in the documentation: https://pandas.pydata.org/pandas-docs/stable/user_guide/indexing.html#returning-a-view-versus-a-copy\n",
      "  df.yearbuilt = df.yearbuilt.astype(int).copy()\n"
     ]
    }
   ],
   "source": [
    "df = wrangle.preparing_data_zillow(df)\n",
    "df = df.drop(columns = ['Unnamed: 0', 'propertylandusedesc'])\n",
    "\n",
    "\n"
   ]
  },
  {
   "cell_type": "code",
   "execution_count": 4,
   "id": "80591f9f",
   "metadata": {},
   "outputs": [],
   "source": [
    "df.calculatedfinishedsquarefeet.sort_values()\n",
    "df.calculatedfinishedsquarefeet = df.calculatedfinishedsquarefeet[df.calculatedfinishedsquarefeet < 25000]\n",
    "\n",
    "df = df.dropna()\n",
    "df = df[df.taxvaluedollarcnt < df.taxvaluedollarcnt.quantile(.95)].copy()\n"
   ]
  },
  {
   "cell_type": "code",
   "execution_count": 5,
   "id": "d872f01a",
   "metadata": {},
   "outputs": [],
   "source": [
    "train, validate, test = wrangle.split_data(df, df['taxvaluedollarcnt'])"
   ]
  },
  {
   "cell_type": "code",
   "execution_count": 6,
   "id": "c500658e",
   "metadata": {},
   "outputs": [],
   "source": [
    "lr = LinearRegression()\n",
    "lr.fit(train[['calculatedfinishedsquarefeet']], train.taxvaluedollarcnt)\n",
    "train['yhat'] = lr.predict(train[['calculatedfinishedsquarefeet']])\n",
    "train['yhat_baseline'] = train['taxvaluedollarcnt'].mean()"
   ]
  },
  {
   "cell_type": "code",
   "execution_count": 7,
   "id": "01858b1d",
   "metadata": {},
   "outputs": [
    {
     "data": {
      "text/html": [
       "<div>\n",
       "<style scoped>\n",
       "    .dataframe tbody tr th:only-of-type {\n",
       "        vertical-align: middle;\n",
       "    }\n",
       "\n",
       "    .dataframe tbody tr th {\n",
       "        vertical-align: top;\n",
       "    }\n",
       "\n",
       "    .dataframe thead th {\n",
       "        text-align: right;\n",
       "    }\n",
       "</style>\n",
       "<table border=\"1\" class=\"dataframe\">\n",
       "  <thead>\n",
       "    <tr style=\"text-align: right;\">\n",
       "      <th></th>\n",
       "      <th>bedroomcnt</th>\n",
       "      <th>bathroomcnt</th>\n",
       "      <th>calculatedfinishedsquarefeet</th>\n",
       "      <th>taxvaluedollarcnt</th>\n",
       "      <th>yearbuilt</th>\n",
       "      <th>taxamount</th>\n",
       "      <th>fips</th>\n",
       "      <th>yhat</th>\n",
       "      <th>yhat_baseline</th>\n",
       "      <th>residual</th>\n",
       "      <th>residual_baseline</th>\n",
       "    </tr>\n",
       "  </thead>\n",
       "  <tbody>\n",
       "    <tr>\n",
       "      <th>1571798</th>\n",
       "      <td>4.0</td>\n",
       "      <td>2.5</td>\n",
       "      <td>2987.0</td>\n",
       "      <td>885000.0</td>\n",
       "      <td>2006</td>\n",
       "      <td>13617.38</td>\n",
       "      <td>6059</td>\n",
       "      <td>580049.248064</td>\n",
       "      <td>363532.067232</td>\n",
       "      <td>-304950.751936</td>\n",
       "      <td>-521467.932768</td>\n",
       "    </tr>\n",
       "    <tr>\n",
       "      <th>1723553</th>\n",
       "      <td>3.0</td>\n",
       "      <td>2.0</td>\n",
       "      <td>3013.0</td>\n",
       "      <td>489511.0</td>\n",
       "      <td>1977</td>\n",
       "      <td>5768.57</td>\n",
       "      <td>6037</td>\n",
       "      <td>584607.353498</td>\n",
       "      <td>363532.067232</td>\n",
       "      <td>95096.353498</td>\n",
       "      <td>-125978.932768</td>\n",
       "    </tr>\n",
       "    <tr>\n",
       "      <th>718174</th>\n",
       "      <td>4.0</td>\n",
       "      <td>3.0</td>\n",
       "      <td>2572.0</td>\n",
       "      <td>390915.0</td>\n",
       "      <td>1986</td>\n",
       "      <td>4944.11</td>\n",
       "      <td>6037</td>\n",
       "      <td>507294.872860</td>\n",
       "      <td>363532.067232</td>\n",
       "      <td>116379.872860</td>\n",
       "      <td>-27382.932768</td>\n",
       "    </tr>\n",
       "    <tr>\n",
       "      <th>1663205</th>\n",
       "      <td>3.0</td>\n",
       "      <td>1.0</td>\n",
       "      <td>1589.0</td>\n",
       "      <td>321758.0</td>\n",
       "      <td>1959</td>\n",
       "      <td>4031.78</td>\n",
       "      <td>6037</td>\n",
       "      <td>334963.425088</td>\n",
       "      <td>363532.067232</td>\n",
       "      <td>13205.425088</td>\n",
       "      <td>41774.067232</td>\n",
       "    </tr>\n",
       "    <tr>\n",
       "      <th>1087891</th>\n",
       "      <td>3.0</td>\n",
       "      <td>2.0</td>\n",
       "      <td>1727.0</td>\n",
       "      <td>231737.0</td>\n",
       "      <td>1962</td>\n",
       "      <td>2708.80</td>\n",
       "      <td>6111</td>\n",
       "      <td>359156.446240</td>\n",
       "      <td>363532.067232</td>\n",
       "      <td>127419.446240</td>\n",
       "      <td>131795.067232</td>\n",
       "    </tr>\n",
       "    <tr>\n",
       "      <th>...</th>\n",
       "      <td>...</td>\n",
       "      <td>...</td>\n",
       "      <td>...</td>\n",
       "      <td>...</td>\n",
       "      <td>...</td>\n",
       "      <td>...</td>\n",
       "      <td>...</td>\n",
       "      <td>...</td>\n",
       "      <td>...</td>\n",
       "      <td>...</td>\n",
       "      <td>...</td>\n",
       "    </tr>\n",
       "    <tr>\n",
       "      <th>531544</th>\n",
       "      <td>3.0</td>\n",
       "      <td>2.0</td>\n",
       "      <td>1610.0</td>\n",
       "      <td>226464.0</td>\n",
       "      <td>1984</td>\n",
       "      <td>3001.96</td>\n",
       "      <td>6037</td>\n",
       "      <td>338644.971785</td>\n",
       "      <td>363532.067232</td>\n",
       "      <td>112180.971785</td>\n",
       "      <td>137068.067232</td>\n",
       "    </tr>\n",
       "    <tr>\n",
       "      <th>424806</th>\n",
       "      <td>2.0</td>\n",
       "      <td>1.0</td>\n",
       "      <td>900.0</td>\n",
       "      <td>227271.0</td>\n",
       "      <td>1938</td>\n",
       "      <td>3323.92</td>\n",
       "      <td>6037</td>\n",
       "      <td>214173.631075</td>\n",
       "      <td>363532.067232</td>\n",
       "      <td>-13097.368925</td>\n",
       "      <td>136261.067232</td>\n",
       "    </tr>\n",
       "    <tr>\n",
       "      <th>518081</th>\n",
       "      <td>3.0</td>\n",
       "      <td>3.0</td>\n",
       "      <td>1841.0</td>\n",
       "      <td>125533.0</td>\n",
       "      <td>1955</td>\n",
       "      <td>1731.15</td>\n",
       "      <td>6037</td>\n",
       "      <td>379141.985453</td>\n",
       "      <td>363532.067232</td>\n",
       "      <td>253608.985453</td>\n",
       "      <td>237999.067232</td>\n",
       "    </tr>\n",
       "    <tr>\n",
       "      <th>669341</th>\n",
       "      <td>3.0</td>\n",
       "      <td>2.0</td>\n",
       "      <td>1406.0</td>\n",
       "      <td>364412.0</td>\n",
       "      <td>1956</td>\n",
       "      <td>4559.86</td>\n",
       "      <td>6037</td>\n",
       "      <td>302881.375299</td>\n",
       "      <td>363532.067232</td>\n",
       "      <td>-61530.624701</td>\n",
       "      <td>-879.932768</td>\n",
       "    </tr>\n",
       "    <tr>\n",
       "      <th>1587454</th>\n",
       "      <td>3.0</td>\n",
       "      <td>1.0</td>\n",
       "      <td>1571.0</td>\n",
       "      <td>207976.0</td>\n",
       "      <td>1948</td>\n",
       "      <td>2619.67</td>\n",
       "      <td>6037</td>\n",
       "      <td>331807.813633</td>\n",
       "      <td>363532.067232</td>\n",
       "      <td>123831.813633</td>\n",
       "      <td>155556.067232</td>\n",
       "    </tr>\n",
       "  </tbody>\n",
       "</table>\n",
       "<p>1219902 rows × 11 columns</p>\n",
       "</div>"
      ],
      "text/plain": [
       "         bedroomcnt  bathroomcnt  calculatedfinishedsquarefeet  \\\n",
       "1571798         4.0          2.5                        2987.0   \n",
       "1723553         3.0          2.0                        3013.0   \n",
       "718174          4.0          3.0                        2572.0   \n",
       "1663205         3.0          1.0                        1589.0   \n",
       "1087891         3.0          2.0                        1727.0   \n",
       "...             ...          ...                           ...   \n",
       "531544          3.0          2.0                        1610.0   \n",
       "424806          2.0          1.0                         900.0   \n",
       "518081          3.0          3.0                        1841.0   \n",
       "669341          3.0          2.0                        1406.0   \n",
       "1587454         3.0          1.0                        1571.0   \n",
       "\n",
       "         taxvaluedollarcnt  yearbuilt  taxamount  fips           yhat  \\\n",
       "1571798           885000.0       2006   13617.38  6059  580049.248064   \n",
       "1723553           489511.0       1977    5768.57  6037  584607.353498   \n",
       "718174            390915.0       1986    4944.11  6037  507294.872860   \n",
       "1663205           321758.0       1959    4031.78  6037  334963.425088   \n",
       "1087891           231737.0       1962    2708.80  6111  359156.446240   \n",
       "...                    ...        ...        ...   ...            ...   \n",
       "531544            226464.0       1984    3001.96  6037  338644.971785   \n",
       "424806            227271.0       1938    3323.92  6037  214173.631075   \n",
       "518081            125533.0       1955    1731.15  6037  379141.985453   \n",
       "669341            364412.0       1956    4559.86  6037  302881.375299   \n",
       "1587454           207976.0       1948    2619.67  6037  331807.813633   \n",
       "\n",
       "         yhat_baseline       residual  residual_baseline  \n",
       "1571798  363532.067232 -304950.751936     -521467.932768  \n",
       "1723553  363532.067232   95096.353498     -125978.932768  \n",
       "718174   363532.067232  116379.872860      -27382.932768  \n",
       "1663205  363532.067232   13205.425088       41774.067232  \n",
       "1087891  363532.067232  127419.446240      131795.067232  \n",
       "...                ...            ...                ...  \n",
       "531544   363532.067232  112180.971785      137068.067232  \n",
       "424806   363532.067232  -13097.368925      136261.067232  \n",
       "518081   363532.067232  253608.985453      237999.067232  \n",
       "669341   363532.067232  -61530.624701        -879.932768  \n",
       "1587454  363532.067232  123831.813633      155556.067232  \n",
       "\n",
       "[1219902 rows x 11 columns]"
      ]
     },
     "execution_count": 7,
     "metadata": {},
     "output_type": "execute_result"
    }
   ],
   "source": [
    "train['residual'] = train['yhat'] - train['taxvaluedollarcnt']\n",
    "train['residual_baseline'] = train['yhat_baseline'] - train['taxvaluedollarcnt']\n",
    "train"
   ]
  },
  {
   "cell_type": "code",
   "execution_count": 8,
   "id": "05496043",
   "metadata": {
    "scrolled": false
   },
   "outputs": [
    {
     "data": {
      "image/png": "[encoded data removed]",
      "text/plain": [
       "<Figure size 640x480 with 1 Axes>"
      ]
     },
     "metadata": {},
     "output_type": "display_data"
    }
   ],
   "source": [
    "plt.scatter(train[['calculatedfinishedsquarefeet']] , train['residual'])\n",
    "plt.xlabel('x = calculatedfinishedsquarefeet')\n",
    "plt.ylabel('y = residual_baseline')\n",
    "plt.title('OLS linear model')\n",
    "plt.show()"
   ]
  },
  {
   "cell_type": "markdown",
   "id": "d929ce6d",
   "metadata": {},
   "source": [
    "#### Calculate the sum of squared errors, explained sum of squares, total sum of squares, mean squared error, and root mean squared error for your model."
   ]
  },
  {
   "cell_type": "code",
   "execution_count": 9,
   "id": "03fdefa5",
   "metadata": {},
   "outputs": [
    {
     "data": {
      "text/plain": [
       "5.244624799783556e+16"
      ]
     },
     "execution_count": 9,
     "metadata": {},
     "output_type": "execute_result"
    }
   ],
   "source": [
    "train['residual^2'] = train.residual ** 2\n",
    "SSE = sum(train['residual^2'])\n",
    "SSE"
   ]
  },
  {
   "cell_type": "code",
   "execution_count": 10,
   "id": "152edf48",
   "metadata": {},
   "outputs": [
    {
     "data": {
      "text/plain": [
       "363532.06723244983"
      ]
     },
     "execution_count": 10,
     "metadata": {},
     "output_type": "execute_result"
    }
   ],
   "source": [
    "train.taxvaluedollarcnt.mean()"
   ]
  },
  {
   "cell_type": "code",
   "execution_count": 11,
   "id": "ad955c55",
   "metadata": {},
   "outputs": [
    {
     "data": {
      "text/plain": [
       "1.9763181828794024e+16"
      ]
     },
     "execution_count": 11,
     "metadata": {},
     "output_type": "execute_result"
    }
   ],
   "source": [
    "ESS = sum((train.yhat - train.taxvaluedollarcnt.mean())**2)\n",
    "ESS"
   ]
  },
  {
   "cell_type": "code",
   "execution_count": 12,
   "id": "99e0003d",
   "metadata": {},
   "outputs": [
    {
     "data": {
      "text/plain": [
       "7.220942982662958e+16"
      ]
     },
     "execution_count": 12,
     "metadata": {},
     "output_type": "execute_result"
    }
   ],
   "source": [
    "TSS = ESS + SSE\n",
    "TSS"
   ]
  },
  {
   "cell_type": "code",
   "execution_count": 13,
   "id": "97644856",
   "metadata": {},
   "outputs": [
    {
     "data": {
      "text/plain": [
       "42992181337.38248"
      ]
     },
     "execution_count": 13,
     "metadata": {},
     "output_type": "execute_result"
    }
   ],
   "source": [
    "MSE = SSE/len(train)\n",
    "MSE"
   ]
  },
  {
   "cell_type": "code",
   "execution_count": 14,
   "id": "31603f67",
   "metadata": {},
   "outputs": [
    {
     "data": {
      "text/plain": [
       "207345.56020658242"
      ]
     },
     "execution_count": 14,
     "metadata": {},
     "output_type": "execute_result"
    }
   ],
   "source": [
    "RMSE2 = sqrt(mean_squared_error(train.yhat, train.taxvaluedollarcnt))\n",
    "RMSE2"
   ]
  },
  {
   "cell_type": "markdown",
   "id": "ee5a43b8",
   "metadata": {},
   "source": [
    "Calculate the sum of squared errors, mean squared error, and root mean squared error for the baseline model (i.e. a model that always predicts the average taxvaluedollarcnt amount)."
   ]
  },
  {
   "cell_type": "code",
   "execution_count": 15,
   "id": "9d6fdc7d",
   "metadata": {},
   "outputs": [
    {
     "data": {
      "text/html": [
       "<div>\n",
       "<style scoped>\n",
       "    .dataframe tbody tr th:only-of-type {\n",
       "        vertical-align: middle;\n",
       "    }\n",
       "\n",
       "    .dataframe tbody tr th {\n",
       "        vertical-align: top;\n",
       "    }\n",
       "\n",
       "    .dataframe thead th {\n",
       "        text-align: right;\n",
       "    }\n",
       "</style>\n",
       "<table border=\"1\" class=\"dataframe\">\n",
       "  <thead>\n",
       "    <tr style=\"text-align: right;\">\n",
       "      <th></th>\n",
       "      <th>bedroomcnt</th>\n",
       "      <th>bathroomcnt</th>\n",
       "      <th>calculatedfinishedsquarefeet</th>\n",
       "      <th>taxvaluedollarcnt</th>\n",
       "      <th>yearbuilt</th>\n",
       "      <th>taxamount</th>\n",
       "      <th>fips</th>\n",
       "      <th>yhat</th>\n",
       "      <th>yhat_baseline</th>\n",
       "      <th>residual</th>\n",
       "      <th>residual_baseline</th>\n",
       "      <th>residual^2</th>\n",
       "      <th>baseline</th>\n",
       "    </tr>\n",
       "  </thead>\n",
       "  <tbody>\n",
       "    <tr>\n",
       "      <th>1571798</th>\n",
       "      <td>4.0</td>\n",
       "      <td>2.5</td>\n",
       "      <td>2987.0</td>\n",
       "      <td>885000.0</td>\n",
       "      <td>2006</td>\n",
       "      <td>13617.38</td>\n",
       "      <td>6059</td>\n",
       "      <td>580049.248064</td>\n",
       "      <td>363532.067232</td>\n",
       "      <td>-304950.751936</td>\n",
       "      <td>-521467.932768</td>\n",
       "      <td>9.299496e+10</td>\n",
       "      <td>363532.067232</td>\n",
       "    </tr>\n",
       "    <tr>\n",
       "      <th>1723553</th>\n",
       "      <td>3.0</td>\n",
       "      <td>2.0</td>\n",
       "      <td>3013.0</td>\n",
       "      <td>489511.0</td>\n",
       "      <td>1977</td>\n",
       "      <td>5768.57</td>\n",
       "      <td>6037</td>\n",
       "      <td>584607.353498</td>\n",
       "      <td>363532.067232</td>\n",
       "      <td>95096.353498</td>\n",
       "      <td>-125978.932768</td>\n",
       "      <td>9.043316e+09</td>\n",
       "      <td>363532.067232</td>\n",
       "    </tr>\n",
       "    <tr>\n",
       "      <th>718174</th>\n",
       "      <td>4.0</td>\n",
       "      <td>3.0</td>\n",
       "      <td>2572.0</td>\n",
       "      <td>390915.0</td>\n",
       "      <td>1986</td>\n",
       "      <td>4944.11</td>\n",
       "      <td>6037</td>\n",
       "      <td>507294.872860</td>\n",
       "      <td>363532.067232</td>\n",
       "      <td>116379.872860</td>\n",
       "      <td>-27382.932768</td>\n",
       "      <td>1.354427e+10</td>\n",
       "      <td>363532.067232</td>\n",
       "    </tr>\n",
       "    <tr>\n",
       "      <th>1663205</th>\n",
       "      <td>3.0</td>\n",
       "      <td>1.0</td>\n",
       "      <td>1589.0</td>\n",
       "      <td>321758.0</td>\n",
       "      <td>1959</td>\n",
       "      <td>4031.78</td>\n",
       "      <td>6037</td>\n",
       "      <td>334963.425088</td>\n",
       "      <td>363532.067232</td>\n",
       "      <td>13205.425088</td>\n",
       "      <td>41774.067232</td>\n",
       "      <td>1.743833e+08</td>\n",
       "      <td>363532.067232</td>\n",
       "    </tr>\n",
       "    <tr>\n",
       "      <th>1087891</th>\n",
       "      <td>3.0</td>\n",
       "      <td>2.0</td>\n",
       "      <td>1727.0</td>\n",
       "      <td>231737.0</td>\n",
       "      <td>1962</td>\n",
       "      <td>2708.80</td>\n",
       "      <td>6111</td>\n",
       "      <td>359156.446240</td>\n",
       "      <td>363532.067232</td>\n",
       "      <td>127419.446240</td>\n",
       "      <td>131795.067232</td>\n",
       "      <td>1.623572e+10</td>\n",
       "      <td>363532.067232</td>\n",
       "    </tr>\n",
       "    <tr>\n",
       "      <th>...</th>\n",
       "      <td>...</td>\n",
       "      <td>...</td>\n",
       "      <td>...</td>\n",
       "      <td>...</td>\n",
       "      <td>...</td>\n",
       "      <td>...</td>\n",
       "      <td>...</td>\n",
       "      <td>...</td>\n",
       "      <td>...</td>\n",
       "      <td>...</td>\n",
       "      <td>...</td>\n",
       "      <td>...</td>\n",
       "      <td>...</td>\n",
       "    </tr>\n",
       "    <tr>\n",
       "      <th>531544</th>\n",
       "      <td>3.0</td>\n",
       "      <td>2.0</td>\n",
       "      <td>1610.0</td>\n",
       "      <td>226464.0</td>\n",
       "      <td>1984</td>\n",
       "      <td>3001.96</td>\n",
       "      <td>6037</td>\n",
       "      <td>338644.971785</td>\n",
       "      <td>363532.067232</td>\n",
       "      <td>112180.971785</td>\n",
       "      <td>137068.067232</td>\n",
       "      <td>1.258457e+10</td>\n",
       "      <td>363532.067232</td>\n",
       "    </tr>\n",
       "    <tr>\n",
       "      <th>424806</th>\n",
       "      <td>2.0</td>\n",
       "      <td>1.0</td>\n",
       "      <td>900.0</td>\n",
       "      <td>227271.0</td>\n",
       "      <td>1938</td>\n",
       "      <td>3323.92</td>\n",
       "      <td>6037</td>\n",
       "      <td>214173.631075</td>\n",
       "      <td>363532.067232</td>\n",
       "      <td>-13097.368925</td>\n",
       "      <td>136261.067232</td>\n",
       "      <td>1.715411e+08</td>\n",
       "      <td>363532.067232</td>\n",
       "    </tr>\n",
       "    <tr>\n",
       "      <th>518081</th>\n",
       "      <td>3.0</td>\n",
       "      <td>3.0</td>\n",
       "      <td>1841.0</td>\n",
       "      <td>125533.0</td>\n",
       "      <td>1955</td>\n",
       "      <td>1731.15</td>\n",
       "      <td>6037</td>\n",
       "      <td>379141.985453</td>\n",
       "      <td>363532.067232</td>\n",
       "      <td>253608.985453</td>\n",
       "      <td>237999.067232</td>\n",
       "      <td>6.431752e+10</td>\n",
       "      <td>363532.067232</td>\n",
       "    </tr>\n",
       "    <tr>\n",
       "      <th>669341</th>\n",
       "      <td>3.0</td>\n",
       "      <td>2.0</td>\n",
       "      <td>1406.0</td>\n",
       "      <td>364412.0</td>\n",
       "      <td>1956</td>\n",
       "      <td>4559.86</td>\n",
       "      <td>6037</td>\n",
       "      <td>302881.375299</td>\n",
       "      <td>363532.067232</td>\n",
       "      <td>-61530.624701</td>\n",
       "      <td>-879.932768</td>\n",
       "      <td>3.786018e+09</td>\n",
       "      <td>363532.067232</td>\n",
       "    </tr>\n",
       "    <tr>\n",
       "      <th>1587454</th>\n",
       "      <td>3.0</td>\n",
       "      <td>1.0</td>\n",
       "      <td>1571.0</td>\n",
       "      <td>207976.0</td>\n",
       "      <td>1948</td>\n",
       "      <td>2619.67</td>\n",
       "      <td>6037</td>\n",
       "      <td>331807.813633</td>\n",
       "      <td>363532.067232</td>\n",
       "      <td>123831.813633</td>\n",
       "      <td>155556.067232</td>\n",
       "      <td>1.533432e+10</td>\n",
       "      <td>363532.067232</td>\n",
       "    </tr>\n",
       "  </tbody>\n",
       "</table>\n",
       "<p>1219902 rows × 13 columns</p>\n",
       "</div>"
      ],
      "text/plain": [
       "         bedroomcnt  bathroomcnt  calculatedfinishedsquarefeet  \\\n",
       "1571798         4.0          2.5                        2987.0   \n",
       "1723553         3.0          2.0                        3013.0   \n",
       "718174          4.0          3.0                        2572.0   \n",
       "1663205         3.0          1.0                        1589.0   \n",
       "1087891         3.0          2.0                        1727.0   \n",
       "...             ...          ...                           ...   \n",
       "531544          3.0          2.0                        1610.0   \n",
       "424806          2.0          1.0                         900.0   \n",
       "518081          3.0          3.0                        1841.0   \n",
       "669341          3.0          2.0                        1406.0   \n",
       "1587454         3.0          1.0                        1571.0   \n",
       "\n",
       "         taxvaluedollarcnt  yearbuilt  taxamount  fips           yhat  \\\n",
       "1571798           885000.0       2006   13617.38  6059  580049.248064   \n",
       "1723553           489511.0       1977    5768.57  6037  584607.353498   \n",
       "718174            390915.0       1986    4944.11  6037  507294.872860   \n",
       "1663205           321758.0       1959    4031.78  6037  334963.425088   \n",
       "1087891           231737.0       1962    2708.80  6111  359156.446240   \n",
       "...                    ...        ...        ...   ...            ...   \n",
       "531544            226464.0       1984    3001.96  6037  338644.971785   \n",
       "424806            227271.0       1938    3323.92  6037  214173.631075   \n",
       "518081            125533.0       1955    1731.15  6037  379141.985453   \n",
       "669341            364412.0       1956    4559.86  6037  302881.375299   \n",
       "1587454           207976.0       1948    2619.67  6037  331807.813633   \n",
       "\n",
       "         yhat_baseline       residual  residual_baseline    residual^2  \\\n",
       "1571798  363532.067232 -304950.751936     -521467.932768  9.299496e+10   \n",
       "1723553  363532.067232   95096.353498     -125978.932768  9.043316e+09   \n",
       "718174   363532.067232  116379.872860      -27382.932768  1.354427e+10   \n",
       "1663205  363532.067232   13205.425088       41774.067232  1.743833e+08   \n",
       "1087891  363532.067232  127419.446240      131795.067232  1.623572e+10   \n",
       "...                ...            ...                ...           ...   \n",
       "531544   363532.067232  112180.971785      137068.067232  1.258457e+10   \n",
       "424806   363532.067232  -13097.368925      136261.067232  1.715411e+08   \n",
       "518081   363532.067232  253608.985453      237999.067232  6.431752e+10   \n",
       "669341   363532.067232  -61530.624701        -879.932768  3.786018e+09   \n",
       "1587454  363532.067232  123831.813633      155556.067232  1.533432e+10   \n",
       "\n",
       "              baseline  \n",
       "1571798  363532.067232  \n",
       "1723553  363532.067232  \n",
       "718174   363532.067232  \n",
       "1663205  363532.067232  \n",
       "1087891  363532.067232  \n",
       "...                ...  \n",
       "531544   363532.067232  \n",
       "424806   363532.067232  \n",
       "518081   363532.067232  \n",
       "669341   363532.067232  \n",
       "1587454  363532.067232  \n",
       "\n",
       "[1219902 rows x 13 columns]"
      ]
     },
     "execution_count": 15,
     "metadata": {},
     "output_type": "execute_result"
    }
   ],
   "source": [
    "train['baseline'] = train.taxvaluedollarcnt.mean()\n",
    "\n",
    "# train['yhat_baseline'] = lr.predict(train[['calculatedfinishedsquarefeet']])\n",
    "# train['residual_baseline'] = train['yhat_baseline'] - train['taxvaluedollarcnt']\n",
    "train"
   ]
  },
  {
   "cell_type": "code",
   "execution_count": 16,
   "id": "023b5772",
   "metadata": {},
   "outputs": [
    {
     "data": {
      "text/plain": [
       "7.220942982660413e+16"
      ]
     },
     "execution_count": 16,
     "metadata": {},
     "output_type": "execute_result"
    }
   ],
   "source": [
    "train['residual_baseline^2'] = train.residual_baseline ** 2\n",
    "SSE_baseline = sum(train['residual_baseline^2'] )\n",
    "SSE_baseline"
   ]
  },
  {
   "cell_type": "code",
   "execution_count": 17,
   "id": "aabfc53b",
   "metadata": {},
   "outputs": [
    {
     "data": {
      "text/plain": [
       "1571798    363532.067232\n",
       "1723553    363532.067232\n",
       "718174     363532.067232\n",
       "1663205    363532.067232\n",
       "1087891    363532.067232\n",
       "               ...      \n",
       "531544     363532.067232\n",
       "424806     363532.067232\n",
       "518081     363532.067232\n",
       "669341     363532.067232\n",
       "1587454    363532.067232\n",
       "Name: baseline, Length: 1219902, dtype: float64"
      ]
     },
     "execution_count": 17,
     "metadata": {},
     "output_type": "execute_result"
    }
   ],
   "source": [
    "train.baseline"
   ]
  },
  {
   "cell_type": "code",
   "execution_count": 18,
   "id": "b8e3e0d0",
   "metadata": {},
   "outputs": [
    {
     "data": {
      "text/plain": [
       "363532.06723245047"
      ]
     },
     "execution_count": 18,
     "metadata": {},
     "output_type": "execute_result"
    }
   ],
   "source": [
    "train.baseline.mean()"
   ]
  },
  {
   "cell_type": "code",
   "execution_count": 19,
   "id": "bcb4f01a",
   "metadata": {},
   "outputs": [
    {
     "data": {
      "text/plain": [
       "0.0"
      ]
     },
     "execution_count": 19,
     "metadata": {},
     "output_type": "execute_result"
    }
   ],
   "source": [
    "ESS_baseline = sum((train.yhat_baseline - train.baseline)**2)\n",
    "ESS_baseline"
   ]
  },
  {
   "cell_type": "code",
   "execution_count": 20,
   "id": "7b07897c",
   "metadata": {},
   "outputs": [
    {
     "data": {
      "text/plain": [
       "7.220942982662958e+16"
      ]
     },
     "execution_count": 20,
     "metadata": {},
     "output_type": "execute_result"
    }
   ],
   "source": [
    "TSS_baseline = ESS + SSE\n",
    "TSS_baseline"
   ]
  },
  {
   "cell_type": "code",
   "execution_count": 21,
   "id": "f5a6caed",
   "metadata": {},
   "outputs": [
    {
     "data": {
      "text/plain": [
       "42992181337.38248"
      ]
     },
     "execution_count": 21,
     "metadata": {},
     "output_type": "execute_result"
    }
   ],
   "source": [
    "MSE_baseline = SSE/len(train)\n",
    "MSE_baseline"
   ]
  },
  {
   "cell_type": "code",
   "execution_count": 22,
   "id": "3f955f40",
   "metadata": {},
   "outputs": [
    {
     "data": {
      "text/plain": [
       "243295.7296529629"
      ]
     },
     "execution_count": 22,
     "metadata": {},
     "output_type": "execute_result"
    }
   ],
   "source": [
    "RMSE2_baseline = sqrt(mean_squared_error( train.yhat_baseline, train.taxvaluedollarcnt))\n",
    "RMSE2_baseline"
   ]
  },
  {
   "cell_type": "markdown",
   "id": "a508a606",
   "metadata": {},
   "source": [
    "## Write python code that compares the sum of squared errors for your model against the sum of squared errors for the baseline model and outputs whether or not your model performs better than the baseline model."
   ]
  },
  {
   "cell_type": "code",
   "execution_count": 23,
   "id": "b01239bd",
   "metadata": {},
   "outputs": [
    {
     "name": "stdout",
     "output_type": "stream",
     "text": [
      "5.244624799783556e+16\n",
      "7.220942982660413e+16\n",
      "Model SSE is better than baseline SSE\n"
     ]
    }
   ],
   "source": [
    "print(SSE)\n",
    "print(SSE_baseline)\n",
    "if SSE_baseline > SSE:\n",
    "    print('Model SSE is better than baseline SSE')\n",
    "else:\n",
    "    print('baseline SSE is better than Model SSE')"
   ]
  },
  {
   "cell_type": "markdown",
   "id": "a4a50e9f",
   "metadata": {},
   "source": [
    "# What is the amount of variance explained in your model?"
   ]
  },
  {
   "cell_type": "code",
   "execution_count": 24,
   "id": "17986027",
   "metadata": {},
   "outputs": [
    {
     "name": "stdout",
     "output_type": "stream",
     "text": [
      "Percent of variance in y explained by x =  27.4 %\n"
     ]
    }
   ],
   "source": [
    "R2 = ESS/TSS\n",
    "print(\"Percent of variance in y explained by x = \", round(R2*100,1), \"%\")\n",
    "\n",
    "## "
   ]
  },
  {
   "cell_type": "markdown",
   "id": "4eee075d",
   "metadata": {},
   "source": [
    "# Is your model better than the baseline model?"
   ]
  },
  {
   "cell_type": "markdown",
   "id": "619d8219",
   "metadata": {},
   "source": [
    "Accoding to the SSE is is"
   ]
  },
  {
   "cell_type": "markdown",
   "id": "a58bd097",
   "metadata": {},
   "source": [
    "# Create a file named evaluate.py that contains the following functions."
   ]
  },
  {
   "cell_type": "code",
   "execution_count": 25,
   "id": "03d157ff",
   "metadata": {},
   "outputs": [
    {
     "data": {
      "text/plain": [
       "array([[ 1.61662818],\n",
       "       [ 1.64665127],\n",
       "       [ 1.13741339],\n",
       "       ...,\n",
       "       [ 0.29330254],\n",
       "       [-0.20900693],\n",
       "       [-0.01847575]])"
      ]
     },
     "execution_count": 25,
     "metadata": {},
     "output_type": "execute_result"
    }
   ],
   "source": [
    "scaler = RobustScaler()\n",
    "X_train_scaled_Robust = scaler.fit_transform(train[['calculatedfinishedsquarefeet']])\n",
    "X_train_scaled_Robust"
   ]
  },
  {
   "cell_type": "code",
   "execution_count": 26,
   "id": "c0a7c576",
   "metadata": {},
   "outputs": [
    {
     "data": {
      "text/plain": [
       "5.244624799783556e+16"
      ]
     },
     "execution_count": 26,
     "metadata": {},
     "output_type": "execute_result"
    }
   ],
   "source": [
    "train['RobustScaler'] = X_train_scaled_Robust\n",
    "\n",
    "lr = LinearRegression()\n",
    "lr.fit(train[['RobustScaler']], train.taxvaluedollarcnt)\n",
    "\n",
    "train['yhat'] = lr.predict(train[['RobustScaler']])\n",
    "train['residual'] = train['yhat'] - train['taxvaluedollarcnt']\n",
    "\n",
    "train['residual^2'] = train.residual ** 2\n",
    "SSE = sum(train['residual^2'])\n",
    "SSE"
   ]
  },
  {
   "cell_type": "markdown",
   "id": "c0377ac6",
   "metadata": {},
   "source": [
    "area < 25000 droping"
   ]
  }
 ],
 "metadata": {
  "kernelspec": {
   "display_name": "Python 3 (ipykernel)",
   "language": "python",
   "name": "python3"
  },
  "language_info": {
   "codemirror_mode": {
    "name": "ipython",
    "version": 3
   },
   "file_extension": ".py",
   "mimetype": "text/x-python",
   "name": "python",
   "nbconvert_exporter": "python",
   "pygments_lexer": "ipython3",
   "version": "3.9.16"
  }
 },
 "nbformat": 4,
 "nbformat_minor": 5
}
